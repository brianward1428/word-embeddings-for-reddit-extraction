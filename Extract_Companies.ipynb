{
 "cells": [
  {
   "cell_type": "code",
   "execution_count": 1,
   "id": "legal-abraham",
   "metadata": {},
   "outputs": [
    {
     "name": "stderr",
     "output_type": "stream",
     "text": [
      "/Users/brianward/Desktop/Northeastern/AI/project/aiEnv/lib/python3.9/site-packages/gensim/similarities/__init__.py:15: UserWarning: The gensim.similarities.levenshtein submodule is disabled, because the optional Levenshtein package <https://pypi.org/project/python-Levenshtein/> is unavailable. Install Levenhstein (e.g. `pip install python-Levenshtein`) to suppress this warning.\n",
      "  warnings.warn(msg)\n"
     ]
    }
   ],
   "source": [
    "import pandas as pd\n",
    "import re\n",
    "import string\n",
    "import plotly.express as px\n",
    "import statistics\n",
    "import math\n",
    "from datetime import datetime\n",
    "import collections\n",
    "from myFunctions import processSentences, meanVector, cosineDistance\n",
    "import plotly.express as px\n",
    "\n",
    "\n",
    "import itertools\n",
    "\n",
    "# NLP Packages\n",
    "from gensim.models.phrases import Phrases, Phraser\n",
    "from gensim import matutils\n",
    "from gensim.models import KeyedVectors"
   ]
  },
  {
   "cell_type": "markdown",
   "id": "composite-franchise",
   "metadata": {},
   "source": [
    "# Now let's use our model to try to extract the company Names\n",
    "\n",
    "### Goal\n",
    "* extract company names and tickers using our tool.\n",
    "* explore what we found\n",
    "* perform sentiment analysis\n",
    "\n"
   ]
  },
  {
   "cell_type": "code",
   "execution_count": 2,
   "id": "theoretical-nomination",
   "metadata": {},
   "outputs": [
    {
     "name": "stderr",
     "output_type": "stream",
     "text": [
      "/Users/brianward/Desktop/Northeastern/AI/project/aiEnv/lib/python3.9/site-packages/IPython/core/interactiveshell.py:3165: DtypeWarning: Columns (5,7) have mixed types.Specify dtype option on import or set low_memory=False.\n",
      "  has_raised = await self.run_ast_nodes(code_ast.body, cell_name,\n"
     ]
    }
   ],
   "source": [
    "# import data\n",
    "reddit = pd.read_csv(\"data/reddit_wsb.csv\")\n",
    "reddit2 = pd.read_csv(\"data/r_wallstreetbets_posts.csv\")"
   ]
  },
  {
   "cell_type": "code",
   "execution_count": 3,
   "id": "geological-diameter",
   "metadata": {},
   "outputs": [],
   "source": [
    "# Lets pull out our sentences\n",
    "# Again we are going to take just the titles from one and the blah blah blah\n",
    "\n",
    "sentences_raw = []\n",
    "\n",
    "\n",
    "for i in range(len(reddit)):\n",
    "    body = reddit['body'][i]\n",
    "    if isinstance(body, str):\n",
    "        sentences_raw.append(body)\n",
    "        \n",
    "for i in range(len(reddit2)):\n",
    "    title = reddit2['title'][i]\n",
    "    if isinstance(title, str):\n",
    "        sentences_raw.append(title)"
   ]
  },
  {
   "cell_type": "code",
   "execution_count": 4,
   "id": "daily-fitting",
   "metadata": {},
   "outputs": [],
   "source": [
    "# process sentences\n",
    "sentences_processed = processSentences(sentences_raw, minStringSize = 5, minTokenCount = 3, splitonPeriod = False, phraseMinCount = 25)\n"
   ]
  },
  {
   "cell_type": "code",
   "execution_count": 5,
   "id": "entitled-workstation",
   "metadata": {},
   "outputs": [
    {
     "data": {
      "text/plain": [
       "['life',\n",
       " \"isn't\",\n",
       " 'fair',\n",
       " 'my',\n",
       " 'mother',\n",
       " 'always',\n",
       " 'told_me',\n",
       " 'that',\n",
       " 'when',\n",
       " 'i',\n",
       " 'would',\n",
       " 'complain',\n",
       " 'about',\n",
       " 'arbitrary',\n",
       " 'treatment',\n",
       " 'i',\n",
       " 'would',\n",
       " 'play',\n",
       " 'by',\n",
       " 'the',\n",
       " 'rules',\n",
       " 'and',\n",
       " 'someone_else',\n",
       " 'would',\n",
       " 'ignore',\n",
       " 'them',\n",
       " 'when',\n",
       " 'they',\n",
       " 'would',\n",
       " 'win',\n",
       " 'i',\n",
       " 'would',\n",
       " 'appeal',\n",
       " 'to',\n",
       " 'the',\n",
       " 'first',\n",
       " 'authority',\n",
       " 'for',\n",
       " 'an_explanation',\n",
       " 'are',\n",
       " 'you',\n",
       " 'going',\n",
       " 'to',\n",
       " 'let_them',\n",
       " 'get',\n",
       " 'away',\n",
       " 'with',\n",
       " 'this',\n",
       " 'life',\n",
       " \"isn't\",\n",
       " 'fair',\n",
       " 'no',\n",
       " 'it',\n",
       " 'is',\n",
       " 'not',\n",
       " 'the',\n",
       " 'game',\n",
       " 'is',\n",
       " 'the',\n",
       " 'game',\n",
       " 'always',\n",
       " 'in',\n",
       " 'this',\n",
       " 'moment',\n",
       " 'the',\n",
       " 'fascade',\n",
       " 'cracks',\n",
       " 'further',\n",
       " 'when',\n",
       " 'the',\n",
       " 'first',\n",
       " 'breach',\n",
       " 'was',\n",
       " 'made',\n",
       " 'i',\n",
       " 'do',\n",
       " 'not',\n",
       " 'know',\n",
       " 'perhaps',\n",
       " 'it',\n",
       " 'was',\n",
       " 'socrates',\n",
       " 'but',\n",
       " 'today',\n",
       " 'i',\n",
       " 'see',\n",
       " 'thousands',\n",
       " 'millions',\n",
       " 'once',\n",
       " 'they',\n",
       " 'were',\n",
       " 'laughing',\n",
       " 'luxuries',\n",
       " 'falling',\n",
       " 'out',\n",
       " 'of',\n",
       " 'their',\n",
       " 'disgusting',\n",
       " 'diseased',\n",
       " 'mouths',\n",
       " 'as',\n",
       " 'they',\n",
       " 'cackled',\n",
       " 'the',\n",
       " 'unmistakable',\n",
       " 'stench',\n",
       " 'of',\n",
       " 'derision',\n",
       " 'carried',\n",
       " 'on',\n",
       " 'their',\n",
       " 'breath',\n",
       " 'they',\n",
       " 'told',\n",
       " 'anyone',\n",
       " 'outside',\n",
       " 'of',\n",
       " 'their',\n",
       " 'elite',\n",
       " 'class',\n",
       " 'that',\n",
       " 'we',\n",
       " 'were',\n",
       " 'fools',\n",
       " 'for',\n",
       " 'even',\n",
       " 'trying',\n",
       " 'they',\n",
       " 'told',\n",
       " 'us',\n",
       " 'that',\n",
       " 'we',\n",
       " 'were',\n",
       " 'naive',\n",
       " 'we',\n",
       " 'needed',\n",
       " 'networks',\n",
       " 'to',\n",
       " 'be',\n",
       " 'successful',\n",
       " 'we',\n",
       " 'needed',\n",
       " 'polish',\n",
       " 'we',\n",
       " 'needed',\n",
       " 'expertise',\n",
       " 'we',\n",
       " 'needed',\n",
       " 'them',\n",
       " 'the',\n",
       " 'game',\n",
       " 'is',\n",
       " 'the',\n",
       " 'game',\n",
       " 'always',\n",
       " 'they',\n",
       " 'are',\n",
       " 'no_longer',\n",
       " 'laughing',\n",
       " 'their',\n",
       " 'odious',\n",
       " 'oeuvre',\n",
       " 'still',\n",
       " 'wafts',\n",
       " 'through',\n",
       " 'the',\n",
       " 'air',\n",
       " 'while',\n",
       " 'the',\n",
       " 'rot',\n",
       " 'and',\n",
       " 'hate',\n",
       " 'and',\n",
       " 'condescention',\n",
       " 'remains',\n",
       " 'the',\n",
       " 'noxious',\n",
       " 'air',\n",
       " 'betrays',\n",
       " 'a',\n",
       " 'new',\n",
       " 'addition',\n",
       " 'something',\n",
       " 'all',\n",
       " 'together',\n",
       " 'disconcerting',\n",
       " 'what',\n",
       " 'it',\n",
       " 'betrays',\n",
       " 'is',\n",
       " 'fear',\n",
       " 'they',\n",
       " 'are',\n",
       " 'afraid',\n",
       " 'and',\n",
       " 'they',\n",
       " 'should',\n",
       " 'be',\n",
       " 'we',\n",
       " 'do',\n",
       " 'not',\n",
       " 'need',\n",
       " 'their',\n",
       " 'inherited',\n",
       " 'resources',\n",
       " 'masked',\n",
       " 'as',\n",
       " 'acumen',\n",
       " 'a',\n",
       " 'new',\n",
       " 'day',\n",
       " 'dawns',\n",
       " 'the',\n",
       " 'day',\n",
       " 'where',\n",
       " 'we',\n",
       " 'make',\n",
       " 'an',\n",
       " 'ever',\n",
       " 'so',\n",
       " 'slight',\n",
       " 'step',\n",
       " 'towards',\n",
       " 'what',\n",
       " 'they',\n",
       " 'fear',\n",
       " 'the',\n",
       " 'most',\n",
       " 'an',\n",
       " 'even',\n",
       " 'field',\n",
       " 'life',\n",
       " 'becoming',\n",
       " 'ever',\n",
       " 'so',\n",
       " 'slighty',\n",
       " 'more',\n",
       " 'fair',\n",
       " 'and',\n",
       " 'they',\n",
       " 'are',\n",
       " 'scared',\n",
       " 'they',\n",
       " 'look_at',\n",
       " 'us',\n",
       " 'and',\n",
       " 'see',\n",
       " 'roughness',\n",
       " 'we',\n",
       " 'look_at',\n",
       " 'them',\n",
       " 'and',\n",
       " 'see',\n",
       " 'softness',\n",
       " 'we',\n",
       " 'are',\n",
       " 'both',\n",
       " 'correct',\n",
       " 'in',\n",
       " 'our',\n",
       " 'estimation',\n",
       " 'the',\n",
       " 'game',\n",
       " 'is',\n",
       " 'the',\n",
       " 'game',\n",
       " 'always',\n",
       " 'fuck',\n",
       " 'them',\n",
       " 'in',\n",
       " 'the',\n",
       " 'street',\n",
       " 'fuck',\n",
       " 'them',\n",
       " 'all',\n",
       " 'in',\n",
       " 'the',\n",
       " 'street',\n",
       " 'we',\n",
       " 'are',\n",
       " 'the',\n",
       " 'righteous',\n",
       " 'we',\n",
       " 'are',\n",
       " 'blessed',\n",
       " 'by',\n",
       " 'phoebe',\n",
       " 'what',\n",
       " 'started',\n",
       " 'here',\n",
       " 'will',\n",
       " 'echo',\n",
       " 'through',\n",
       " 'time',\n",
       " 'in',\n",
       " 'the',\n",
       " 'eons',\n",
       " 'to',\n",
       " 'come',\n",
       " 'mount',\n",
       " 'up',\n",
       " 'and',\n",
       " 'ride',\n",
       " 'with',\n",
       " 'the',\n",
       " 'fury',\n",
       " 'of',\n",
       " 'a',\n",
       " 'thousand',\n",
       " 'rockets',\n",
       " 'into',\n",
       " 'the',\n",
       " 'universal',\n",
       " 'filament',\n",
       " 'may',\n",
       " 'the',\n",
       " 'wind',\n",
       " 'always',\n",
       " 'be',\n",
       " 'at',\n",
       " 'your',\n",
       " 'back',\n",
       " 'and',\n",
       " 'the',\n",
       " 'sun',\n",
       " 'upon',\n",
       " 'your',\n",
       " 'face',\n",
       " 'and',\n",
       " 'may',\n",
       " 'the',\n",
       " 'wings',\n",
       " 'of',\n",
       " 'destiny',\n",
       " 'carry',\n",
       " 'you',\n",
       " 'aloft',\n",
       " 'to',\n",
       " 'dance',\n",
       " 'with',\n",
       " 'the',\n",
       " 'stars',\n",
       " 'gme',\n",
       " 'everything',\n",
       " 'bb',\n",
       " 'everything']"
      ]
     },
     "execution_count": 5,
     "metadata": {},
     "output_type": "execute_result"
    }
   ],
   "source": [
    "sentences_processed[2]"
   ]
  },
  {
   "cell_type": "code",
   "execution_count": 6,
   "id": "utility-protein",
   "metadata": {},
   "outputs": [],
   "source": [
    "# Load back with memory-mapping = read-only, shared across processes.\n",
    "wv = KeyedVectors.load(\"V2.wordvectors\", mmap='r')"
   ]
  },
  {
   "cell_type": "markdown",
   "id": "increasing-trust",
   "metadata": {},
   "source": [
    "# Build Extraction Tool"
   ]
  },
  {
   "cell_type": "code",
   "execution_count": 7,
   "id": "focal-shelf",
   "metadata": {},
   "outputs": [],
   "source": [
    "\n",
    "\n",
    "\n",
    "def extractCompanies(keyedVectors, sentences_processed, threshold, myVector):\n",
    "    \n",
    "    sentences, extracted = [], []\n",
    "    \n",
    "    for sentence in sentences_processed:\n",
    "        \n",
    "        found = []\n",
    "        \n",
    "        for token in sentence:\n",
    "        \n",
    "            try:\n",
    "                \n",
    "                if cosineDistance(keyedVectors[token], myVector) >= threshold:\n",
    "                    found.append(token)\n",
    "            \n",
    "            except KeyError:\n",
    "                pass\n",
    "        \n",
    "        if len(found) > 0:\n",
    "            sentences.append(sentence)\n",
    "            extracted.append(list(set(found)))\n",
    "        \n",
    "    return pd.DataFrame({'sent':sentences, 'extracted':extracted})\n",
    "            \n"
   ]
  },
  {
   "cell_type": "code",
   "execution_count": 8,
   "id": "little-copper",
   "metadata": {},
   "outputs": [],
   "source": [
    "# calculate our Vec \n",
    "\n",
    "myVec = meanVector(wv, positive=['gme', 'amc','game_stop','tsla', 'nok', 'etsy', 'crox', 'appl', 'microsoft', 'facebook', 'netflix', 'dropbox','slack', 'peloton', 'wal_mart', 'lululemon'], \n",
    "                negative=[])\n"
   ]
  },
  {
   "cell_type": "code",
   "execution_count": 9,
   "id": "compliant-language",
   "metadata": {},
   "outputs": [
    {
     "data": {
      "text/plain": [
       "0.7348057"
      ]
     },
     "execution_count": 9,
     "metadata": {},
     "output_type": "execute_result"
    }
   ],
   "source": [
    "cosineDistance(wv['gme'], myVec)"
   ]
  },
  {
   "cell_type": "code",
   "execution_count": 17,
   "id": "recreational-melbourne",
   "metadata": {},
   "outputs": [
    {
     "name": "stdout",
     "output_type": "stream",
     "text": [
      "time elapsed =  0:04:58.278445\n"
     ]
    }
   ],
   "source": [
    "start = datetime.now()\n",
    "results = extractCompanies(wv, sentences_processed, 0.6, myVec)\n",
    "end = datetime.now()\n",
    "\n",
    "print('time elapsed = ', end-start)"
   ]
  },
  {
   "cell_type": "code",
   "execution_count": 18,
   "id": "filled-copper",
   "metadata": {},
   "outputs": [
    {
     "name": "stdout",
     "output_type": "stream",
     "text": [
      "original article https_www coinspeaker com gamestop blackberry amc trade halts https_www coinspeaker com gamestop blackberry amc trade halts “in the interest of mitigating risk for our company and clients we have put in place several restrictions on some transactions in gme amc and other securities ” a spokeswoman for td_ameritrade told marketwatch referring to the ticker_symbols of the companies “we made these decisions out of an abundance of caution amid unprecedented market_conditions and other_factors ” it is unclear to me at this point what some transactions means large transactions derivates on the stock buy orders in general if what is written in this article is true the technical_difficulties that some brokerages were stating yesterday evening are questionable maybe someone should read the terms of agreement of td their td_ameritrade account and comment if they are allowed to do this maybe some sec_rule aplies instead i am not familiar_with this yet a question for today when markets are open who is experiencing trading restrictions and for the whole community are there alternatives so shorting well more of stock float maybe even naked if done so is ok for institutions but buying a_lot of stock in a collective is not ok all of this while brokers usually make a_lot of money from retail_investors trading risky options derivates which also result in individuals losing it all edit excuse_me if this is old news i could'n find it here filtering here for news flair edit spelling\n",
      "['gme', 'blackberry', 'amc', 'gamestop']\n"
     ]
    }
   ],
   "source": [
    "index = 14\n",
    "\n",
    "print(' '.join(results['sent'][index]))\n",
    "print(results['extracted'][index])\n"
   ]
  },
  {
   "cell_type": "code",
   "execution_count": 19,
   "id": "wicked-department",
   "metadata": {},
   "outputs": [
    {
     "data": {
      "text/plain": [
       "291998"
      ]
     },
     "execution_count": 19,
     "metadata": {},
     "output_type": "execute_result"
    }
   ],
   "source": [
    "len(results)\n",
    "# WOW awesome, we got over 100k succesfull pulls.\n",
    "# now lets go ahead and do some exploration."
   ]
  },
  {
   "cell_type": "code",
   "execution_count": 13,
   "id": "expired-exhibit",
   "metadata": {},
   "outputs": [],
   "source": [
    "# lets save these results for further analysis\n",
    "# first we are going to want to turn the lists into \n",
    "\n",
    "# extracted = pd.DataFrame({'sent':results['sent'].apply(lambda x: \" \".join(x)), 'extracted':results['extracted'].apply(lambda x: \" \".join(x))})\n",
    "\n",
    "# extracted.to_csv('extracted.csv')"
   ]
  },
  {
   "cell_type": "markdown",
   "id": "classical-coffee",
   "metadata": {},
   "source": [
    "# Explore Results"
   ]
  },
  {
   "cell_type": "code",
   "execution_count": 20,
   "id": "developed-circumstances",
   "metadata": {},
   "outputs": [
    {
     "data": {
      "text/plain": [
       "801"
      ]
     },
     "execution_count": 20,
     "metadata": {},
     "output_type": "execute_result"
    }
   ],
   "source": [
    "c = collections.Counter(list(itertools.chain.from_iterable(results['extracted'])))\n",
    "len(c)"
   ]
  },
  {
   "cell_type": "code",
   "execution_count": 21,
   "id": "boring-juice",
   "metadata": {},
   "outputs": [
    {
     "data": {
      "application/vnd.plotly.v1+json": {
       "config": {
        "plotlyServerURL": "https://plot.ly"
       },
       "data": [
        {
         "alignmentgroup": "True",
         "bingroup": "x",
         "hovertemplate": "value=%{x}<br>count=%{y}<extra></extra>",
         "legendgroup": "",
         "marker": {
          "color": "#636efa"
         },
         "name": "",
         "nbinsx": 20,
         "offsetgroup": "",
         "orientation": "v",
         "showlegend": false,
         "type": "histogram",
         "x": [
          98908,
          1091,
          15287,
          43504,
          2175,
          12998,
          1312,
          10585,
          11462,
          9004,
          1421,
          181,
          196,
          644,
          1161,
          6596,
          905,
          3227,
          3076,
          109,
          922,
          6203,
          877,
          43,
          2580,
          708,
          1121,
          170,
          270,
          212,
          1217,
          91,
          99,
          577,
          112,
          532,
          7321,
          3119,
          2488,
          26,
          261,
          2850,
          71,
          1128,
          3136,
          53,
          548,
          343,
          4550,
          707,
          871,
          125,
          1546,
          358,
          764,
          34,
          223,
          79,
          580,
          31,
          1262,
          349,
          87,
          56,
          535,
          1089,
          46,
          57,
          30,
          116,
          648,
          140,
          114,
          345,
          117,
          291,
          46,
          34,
          2074,
          3198,
          184,
          47,
          631,
          61,
          20,
          520,
          893,
          26,
          147,
          32,
          26,
          31,
          740,
          328,
          76,
          127,
          109,
          842,
          175,
          145,
          263,
          47,
          92,
          167,
          120,
          196,
          177,
          20,
          710,
          31,
          335,
          64,
          31,
          85,
          39,
          57,
          96,
          805,
          35,
          25,
          8,
          37,
          1020,
          109,
          482,
          161,
          232,
          237,
          246,
          544,
          55,
          128,
          77,
          45,
          92,
          79,
          86,
          35,
          34,
          47,
          103,
          151,
          17,
          147,
          141,
          215,
          1145,
          124,
          210,
          597,
          2201,
          34,
          48,
          4061,
          207,
          48,
          53,
          38,
          1457,
          1054,
          143,
          173,
          113,
          310,
          44,
          39,
          39,
          146,
          72,
          124,
          153,
          96,
          36,
          139,
          240,
          71,
          41,
          40,
          36,
          93,
          25,
          133,
          27,
          28,
          38,
          52,
          129,
          201,
          279,
          16,
          425,
          1040,
          587,
          112,
          43,
          76,
          166,
          39,
          76,
          408,
          853,
          100,
          2379,
          27,
          373,
          248,
          83,
          23,
          29,
          32,
          69,
          584,
          500,
          26,
          238,
          270,
          39,
          64,
          26,
          23,
          79,
          26,
          99,
          107,
          34,
          36,
          31,
          583,
          137,
          77,
          270,
          27,
          57,
          1416,
          47,
          502,
          229,
          47,
          37,
          424,
          133,
          148,
          55,
          29,
          37,
          87,
          76,
          32,
          129,
          45,
          37,
          21,
          27,
          189,
          671,
          40,
          6,
          36,
          36,
          45,
          48,
          177,
          291,
          331,
          177,
          503,
          85,
          147,
          107,
          44,
          106,
          158,
          337,
          25,
          71,
          274,
          59,
          278,
          4,
          78,
          51,
          33,
          339,
          164,
          171,
          53,
          166,
          20,
          92,
          81,
          180,
          77,
          125,
          18,
          220,
          29,
          256,
          133,
          60,
          46,
          53,
          54,
          30,
          26,
          30,
          291,
          98,
          480,
          160,
          259,
          76,
          28,
          32,
          61,
          60,
          33,
          52,
          60,
          142,
          32,
          610,
          37,
          10,
          97,
          95,
          26,
          130,
          58,
          38,
          192,
          37,
          49,
          18,
          209,
          53,
          3,
          42,
          66,
          159,
          47,
          842,
          182,
          176,
          53,
          23,
          28,
          31,
          6,
          58,
          9,
          56,
          45,
          59,
          51,
          506,
          247,
          413,
          17,
          268,
          1,
          173,
          204,
          85,
          26,
          35,
          148,
          1,
          68,
          266,
          56,
          83,
          36,
          105,
          34,
          18,
          37,
          28,
          28,
          27,
          142,
          108,
          28,
          61,
          30,
          79,
          25,
          25,
          77,
          72,
          60,
          124,
          169,
          11,
          97,
          28,
          26,
          52,
          120,
          81,
          40,
          35,
          194,
          29,
          32,
          472,
          38,
          48,
          106,
          45,
          25,
          26,
          28,
          84,
          87,
          29,
          57,
          41,
          78,
          26,
          94,
          81,
          143,
          92,
          5,
          128,
          90,
          31,
          17,
          25,
          255,
          24,
          106,
          27,
          34,
          31,
          27,
          40,
          50,
          26,
          50,
          21,
          34,
          145,
          75,
          55,
          30,
          47,
          25,
          214,
          76,
          22,
          26,
          1,
          35,
          67,
          8,
          56,
          27,
          38,
          29,
          40,
          33,
          17,
          50,
          35,
          142,
          29,
          43,
          26,
          48,
          18,
          101,
          31,
          23,
          64,
          149,
          65,
          5,
          53,
          23,
          112,
          47,
          46,
          41,
          32,
          78,
          22,
          28,
          56,
          26,
          19,
          97,
          38,
          67,
          26,
          99,
          41,
          61,
          65,
          115,
          6,
          26,
          67,
          5,
          59,
          50,
          1,
          58,
          18,
          287,
          11,
          32,
          84,
          59,
          69,
          55,
          54,
          146,
          27,
          107,
          29,
          33,
          3,
          27,
          8,
          129,
          26,
          40,
          159,
          29,
          70,
          36,
          45,
          36,
          29,
          35,
          39,
          26,
          30,
          66,
          108,
          106,
          26,
          64,
          97,
          38,
          26,
          50,
          17,
          3,
          13,
          24,
          52,
          38,
          17,
          67,
          41,
          2,
          40,
          48,
          47,
          29,
          25,
          1,
          40,
          1,
          34,
          64,
          257,
          72,
          75,
          5,
          28,
          40,
          1,
          90,
          2,
          12,
          85,
          41,
          26,
          32,
          26,
          31,
          59,
          46,
          27,
          33,
          37,
          28,
          141,
          24,
          36,
          62,
          34,
          41,
          32,
          26,
          30,
          28,
          39,
          25,
          26,
          51,
          39,
          113,
          37,
          27,
          30,
          57,
          56,
          25,
          33,
          37,
          119,
          40,
          29,
          43,
          82,
          25,
          1,
          29,
          29,
          71,
          79,
          34,
          42,
          29,
          313,
          139,
          47,
          44,
          143,
          35,
          19,
          31,
          30,
          38,
          36,
          35,
          41,
          38,
          6,
          135,
          117,
          27,
          26,
          27,
          62,
          32,
          36,
          26,
          30,
          43,
          29,
          31,
          30,
          140,
          40,
          70,
          34,
          39,
          37,
          24,
          24,
          68,
          87,
          1,
          41,
          52,
          2,
          26,
          62,
          41,
          85,
          36,
          59,
          36,
          77,
          33,
          18,
          35,
          2,
          63,
          108,
          60,
          44,
          36,
          35,
          36,
          39,
          25,
          534,
          28,
          56,
          36,
          79,
          7,
          4,
          35,
          48,
          42,
          64,
          42,
          2,
          68,
          1,
          42,
          36,
          64,
          40,
          3,
          26,
          40,
          28,
          41,
          48,
          33,
          3,
          75,
          29,
          26,
          25,
          50,
          33,
          36,
          27,
          43,
          35,
          30,
          59,
          32,
          27,
          83,
          36,
          68,
          57,
          2,
          44,
          48,
          32,
          26,
          25,
          40,
          42,
          65,
          24,
          190,
          34,
          75,
          35,
          30,
          47,
          67,
          26,
          31,
          45,
          64,
          33,
          31,
          13,
          56,
          2,
          62,
          207,
          2,
          37,
          1,
          82,
          44,
          50,
          33,
          31,
          96,
          328,
          47,
          10,
          30,
          43,
          1,
          32,
          31,
          49,
          30,
          27,
          34,
          25,
          57,
          34,
          35,
          49,
          45,
          63,
          37,
          25,
          32,
          12,
          54,
          78,
          68,
          27
         ],
         "xaxis": "x",
         "yaxis": "y"
        }
       ],
       "layout": {
        "barmode": "relative",
        "legend": {
         "tracegroupgap": 0
        },
        "margin": {
         "t": 60
        },
        "template": {
         "data": {
          "bar": [
           {
            "error_x": {
             "color": "#2a3f5f"
            },
            "error_y": {
             "color": "#2a3f5f"
            },
            "marker": {
             "line": {
              "color": "#E5ECF6",
              "width": 0.5
             }
            },
            "type": "bar"
           }
          ],
          "barpolar": [
           {
            "marker": {
             "line": {
              "color": "#E5ECF6",
              "width": 0.5
             }
            },
            "type": "barpolar"
           }
          ],
          "carpet": [
           {
            "aaxis": {
             "endlinecolor": "#2a3f5f",
             "gridcolor": "white",
             "linecolor": "white",
             "minorgridcolor": "white",
             "startlinecolor": "#2a3f5f"
            },
            "baxis": {
             "endlinecolor": "#2a3f5f",
             "gridcolor": "white",
             "linecolor": "white",
             "minorgridcolor": "white",
             "startlinecolor": "#2a3f5f"
            },
            "type": "carpet"
           }
          ],
          "choropleth": [
           {
            "colorbar": {
             "outlinewidth": 0,
             "ticks": ""
            },
            "type": "choropleth"
           }
          ],
          "contour": [
           {
            "colorbar": {
             "outlinewidth": 0,
             "ticks": ""
            },
            "colorscale": [
             [
              0,
              "#0d0887"
             ],
             [
              0.1111111111111111,
              "#46039f"
             ],
             [
              0.2222222222222222,
              "#7201a8"
             ],
             [
              0.3333333333333333,
              "#9c179e"
             ],
             [
              0.4444444444444444,
              "#bd3786"
             ],
             [
              0.5555555555555556,
              "#d8576b"
             ],
             [
              0.6666666666666666,
              "#ed7953"
             ],
             [
              0.7777777777777778,
              "#fb9f3a"
             ],
             [
              0.8888888888888888,
              "#fdca26"
             ],
             [
              1,
              "#f0f921"
             ]
            ],
            "type": "contour"
           }
          ],
          "contourcarpet": [
           {
            "colorbar": {
             "outlinewidth": 0,
             "ticks": ""
            },
            "type": "contourcarpet"
           }
          ],
          "heatmap": [
           {
            "colorbar": {
             "outlinewidth": 0,
             "ticks": ""
            },
            "colorscale": [
             [
              0,
              "#0d0887"
             ],
             [
              0.1111111111111111,
              "#46039f"
             ],
             [
              0.2222222222222222,
              "#7201a8"
             ],
             [
              0.3333333333333333,
              "#9c179e"
             ],
             [
              0.4444444444444444,
              "#bd3786"
             ],
             [
              0.5555555555555556,
              "#d8576b"
             ],
             [
              0.6666666666666666,
              "#ed7953"
             ],
             [
              0.7777777777777778,
              "#fb9f3a"
             ],
             [
              0.8888888888888888,
              "#fdca26"
             ],
             [
              1,
              "#f0f921"
             ]
            ],
            "type": "heatmap"
           }
          ],
          "heatmapgl": [
           {
            "colorbar": {
             "outlinewidth": 0,
             "ticks": ""
            },
            "colorscale": [
             [
              0,
              "#0d0887"
             ],
             [
              0.1111111111111111,
              "#46039f"
             ],
             [
              0.2222222222222222,
              "#7201a8"
             ],
             [
              0.3333333333333333,
              "#9c179e"
             ],
             [
              0.4444444444444444,
              "#bd3786"
             ],
             [
              0.5555555555555556,
              "#d8576b"
             ],
             [
              0.6666666666666666,
              "#ed7953"
             ],
             [
              0.7777777777777778,
              "#fb9f3a"
             ],
             [
              0.8888888888888888,
              "#fdca26"
             ],
             [
              1,
              "#f0f921"
             ]
            ],
            "type": "heatmapgl"
           }
          ],
          "histogram": [
           {
            "marker": {
             "colorbar": {
              "outlinewidth": 0,
              "ticks": ""
             }
            },
            "type": "histogram"
           }
          ],
          "histogram2d": [
           {
            "colorbar": {
             "outlinewidth": 0,
             "ticks": ""
            },
            "colorscale": [
             [
              0,
              "#0d0887"
             ],
             [
              0.1111111111111111,
              "#46039f"
             ],
             [
              0.2222222222222222,
              "#7201a8"
             ],
             [
              0.3333333333333333,
              "#9c179e"
             ],
             [
              0.4444444444444444,
              "#bd3786"
             ],
             [
              0.5555555555555556,
              "#d8576b"
             ],
             [
              0.6666666666666666,
              "#ed7953"
             ],
             [
              0.7777777777777778,
              "#fb9f3a"
             ],
             [
              0.8888888888888888,
              "#fdca26"
             ],
             [
              1,
              "#f0f921"
             ]
            ],
            "type": "histogram2d"
           }
          ],
          "histogram2dcontour": [
           {
            "colorbar": {
             "outlinewidth": 0,
             "ticks": ""
            },
            "colorscale": [
             [
              0,
              "#0d0887"
             ],
             [
              0.1111111111111111,
              "#46039f"
             ],
             [
              0.2222222222222222,
              "#7201a8"
             ],
             [
              0.3333333333333333,
              "#9c179e"
             ],
             [
              0.4444444444444444,
              "#bd3786"
             ],
             [
              0.5555555555555556,
              "#d8576b"
             ],
             [
              0.6666666666666666,
              "#ed7953"
             ],
             [
              0.7777777777777778,
              "#fb9f3a"
             ],
             [
              0.8888888888888888,
              "#fdca26"
             ],
             [
              1,
              "#f0f921"
             ]
            ],
            "type": "histogram2dcontour"
           }
          ],
          "mesh3d": [
           {
            "colorbar": {
             "outlinewidth": 0,
             "ticks": ""
            },
            "type": "mesh3d"
           }
          ],
          "parcoords": [
           {
            "line": {
             "colorbar": {
              "outlinewidth": 0,
              "ticks": ""
             }
            },
            "type": "parcoords"
           }
          ],
          "pie": [
           {
            "automargin": true,
            "type": "pie"
           }
          ],
          "scatter": [
           {
            "marker": {
             "colorbar": {
              "outlinewidth": 0,
              "ticks": ""
             }
            },
            "type": "scatter"
           }
          ],
          "scatter3d": [
           {
            "line": {
             "colorbar": {
              "outlinewidth": 0,
              "ticks": ""
             }
            },
            "marker": {
             "colorbar": {
              "outlinewidth": 0,
              "ticks": ""
             }
            },
            "type": "scatter3d"
           }
          ],
          "scattercarpet": [
           {
            "marker": {
             "colorbar": {
              "outlinewidth": 0,
              "ticks": ""
             }
            },
            "type": "scattercarpet"
           }
          ],
          "scattergeo": [
           {
            "marker": {
             "colorbar": {
              "outlinewidth": 0,
              "ticks": ""
             }
            },
            "type": "scattergeo"
           }
          ],
          "scattergl": [
           {
            "marker": {
             "colorbar": {
              "outlinewidth": 0,
              "ticks": ""
             }
            },
            "type": "scattergl"
           }
          ],
          "scattermapbox": [
           {
            "marker": {
             "colorbar": {
              "outlinewidth": 0,
              "ticks": ""
             }
            },
            "type": "scattermapbox"
           }
          ],
          "scatterpolar": [
           {
            "marker": {
             "colorbar": {
              "outlinewidth": 0,
              "ticks": ""
             }
            },
            "type": "scatterpolar"
           }
          ],
          "scatterpolargl": [
           {
            "marker": {
             "colorbar": {
              "outlinewidth": 0,
              "ticks": ""
             }
            },
            "type": "scatterpolargl"
           }
          ],
          "scatterternary": [
           {
            "marker": {
             "colorbar": {
              "outlinewidth": 0,
              "ticks": ""
             }
            },
            "type": "scatterternary"
           }
          ],
          "surface": [
           {
            "colorbar": {
             "outlinewidth": 0,
             "ticks": ""
            },
            "colorscale": [
             [
              0,
              "#0d0887"
             ],
             [
              0.1111111111111111,
              "#46039f"
             ],
             [
              0.2222222222222222,
              "#7201a8"
             ],
             [
              0.3333333333333333,
              "#9c179e"
             ],
             [
              0.4444444444444444,
              "#bd3786"
             ],
             [
              0.5555555555555556,
              "#d8576b"
             ],
             [
              0.6666666666666666,
              "#ed7953"
             ],
             [
              0.7777777777777778,
              "#fb9f3a"
             ],
             [
              0.8888888888888888,
              "#fdca26"
             ],
             [
              1,
              "#f0f921"
             ]
            ],
            "type": "surface"
           }
          ],
          "table": [
           {
            "cells": {
             "fill": {
              "color": "#EBF0F8"
             },
             "line": {
              "color": "white"
             }
            },
            "header": {
             "fill": {
              "color": "#C8D4E3"
             },
             "line": {
              "color": "white"
             }
            },
            "type": "table"
           }
          ]
         },
         "layout": {
          "annotationdefaults": {
           "arrowcolor": "#2a3f5f",
           "arrowhead": 0,
           "arrowwidth": 1
          },
          "autotypenumbers": "strict",
          "coloraxis": {
           "colorbar": {
            "outlinewidth": 0,
            "ticks": ""
           }
          },
          "colorscale": {
           "diverging": [
            [
             0,
             "#8e0152"
            ],
            [
             0.1,
             "#c51b7d"
            ],
            [
             0.2,
             "#de77ae"
            ],
            [
             0.3,
             "#f1b6da"
            ],
            [
             0.4,
             "#fde0ef"
            ],
            [
             0.5,
             "#f7f7f7"
            ],
            [
             0.6,
             "#e6f5d0"
            ],
            [
             0.7,
             "#b8e186"
            ],
            [
             0.8,
             "#7fbc41"
            ],
            [
             0.9,
             "#4d9221"
            ],
            [
             1,
             "#276419"
            ]
           ],
           "sequential": [
            [
             0,
             "#0d0887"
            ],
            [
             0.1111111111111111,
             "#46039f"
            ],
            [
             0.2222222222222222,
             "#7201a8"
            ],
            [
             0.3333333333333333,
             "#9c179e"
            ],
            [
             0.4444444444444444,
             "#bd3786"
            ],
            [
             0.5555555555555556,
             "#d8576b"
            ],
            [
             0.6666666666666666,
             "#ed7953"
            ],
            [
             0.7777777777777778,
             "#fb9f3a"
            ],
            [
             0.8888888888888888,
             "#fdca26"
            ],
            [
             1,
             "#f0f921"
            ]
           ],
           "sequentialminus": [
            [
             0,
             "#0d0887"
            ],
            [
             0.1111111111111111,
             "#46039f"
            ],
            [
             0.2222222222222222,
             "#7201a8"
            ],
            [
             0.3333333333333333,
             "#9c179e"
            ],
            [
             0.4444444444444444,
             "#bd3786"
            ],
            [
             0.5555555555555556,
             "#d8576b"
            ],
            [
             0.6666666666666666,
             "#ed7953"
            ],
            [
             0.7777777777777778,
             "#fb9f3a"
            ],
            [
             0.8888888888888888,
             "#fdca26"
            ],
            [
             1,
             "#f0f921"
            ]
           ]
          },
          "colorway": [
           "#636efa",
           "#EF553B",
           "#00cc96",
           "#ab63fa",
           "#FFA15A",
           "#19d3f3",
           "#FF6692",
           "#B6E880",
           "#FF97FF",
           "#FECB52"
          ],
          "font": {
           "color": "#2a3f5f"
          },
          "geo": {
           "bgcolor": "white",
           "lakecolor": "white",
           "landcolor": "#E5ECF6",
           "showlakes": true,
           "showland": true,
           "subunitcolor": "white"
          },
          "hoverlabel": {
           "align": "left"
          },
          "hovermode": "closest",
          "mapbox": {
           "style": "light"
          },
          "paper_bgcolor": "white",
          "plot_bgcolor": "#E5ECF6",
          "polar": {
           "angularaxis": {
            "gridcolor": "white",
            "linecolor": "white",
            "ticks": ""
           },
           "bgcolor": "#E5ECF6",
           "radialaxis": {
            "gridcolor": "white",
            "linecolor": "white",
            "ticks": ""
           }
          },
          "scene": {
           "xaxis": {
            "backgroundcolor": "#E5ECF6",
            "gridcolor": "white",
            "gridwidth": 2,
            "linecolor": "white",
            "showbackground": true,
            "ticks": "",
            "zerolinecolor": "white"
           },
           "yaxis": {
            "backgroundcolor": "#E5ECF6",
            "gridcolor": "white",
            "gridwidth": 2,
            "linecolor": "white",
            "showbackground": true,
            "ticks": "",
            "zerolinecolor": "white"
           },
           "zaxis": {
            "backgroundcolor": "#E5ECF6",
            "gridcolor": "white",
            "gridwidth": 2,
            "linecolor": "white",
            "showbackground": true,
            "ticks": "",
            "zerolinecolor": "white"
           }
          },
          "shapedefaults": {
           "line": {
            "color": "#2a3f5f"
           }
          },
          "ternary": {
           "aaxis": {
            "gridcolor": "white",
            "linecolor": "white",
            "ticks": ""
           },
           "baxis": {
            "gridcolor": "white",
            "linecolor": "white",
            "ticks": ""
           },
           "bgcolor": "#E5ECF6",
           "caxis": {
            "gridcolor": "white",
            "linecolor": "white",
            "ticks": ""
           }
          },
          "title": {
           "x": 0.05
          },
          "xaxis": {
           "automargin": true,
           "gridcolor": "white",
           "linecolor": "white",
           "ticks": "",
           "title": {
            "standoff": 15
           },
           "zerolinecolor": "white",
           "zerolinewidth": 2
          },
          "yaxis": {
           "automargin": true,
           "gridcolor": "white",
           "linecolor": "white",
           "ticks": "",
           "title": {
            "standoff": 15
           },
           "zerolinecolor": "white",
           "zerolinewidth": 2
          }
         }
        },
        "xaxis": {
         "anchor": "y",
         "domain": [
          0,
          1
         ],
         "title": {
          "text": "value"
         }
        },
        "yaxis": {
         "anchor": "x",
         "domain": [
          0,
          1
         ],
         "title": {
          "text": "count"
         }
        }
       }
      },
      "text/html": [
       "<div>                            <div id=\"7209794c-6f92-463c-a32d-d44f1571d666\" class=\"plotly-graph-div\" style=\"height:525px; width:100%;\"></div>            <script type=\"text/javascript\">                require([\"plotly\"], function(Plotly) {                    window.PLOTLYENV=window.PLOTLYENV || {};                                    if (document.getElementById(\"7209794c-6f92-463c-a32d-d44f1571d666\")) {                    Plotly.newPlot(                        \"7209794c-6f92-463c-a32d-d44f1571d666\",                        [{\"alignmentgroup\": \"True\", \"bingroup\": \"x\", \"hovertemplate\": \"value=%{x}<br>count=%{y}<extra></extra>\", \"legendgroup\": \"\", \"marker\": {\"color\": \"#636efa\"}, \"name\": \"\", \"nbinsx\": 20, \"offsetgroup\": \"\", \"orientation\": \"v\", \"showlegend\": false, \"type\": \"histogram\", \"x\": [98908, 1091, 15287, 43504, 2175, 12998, 1312, 10585, 11462, 9004, 1421, 181, 196, 644, 1161, 6596, 905, 3227, 3076, 109, 922, 6203, 877, 43, 2580, 708, 1121, 170, 270, 212, 1217, 91, 99, 577, 112, 532, 7321, 3119, 2488, 26, 261, 2850, 71, 1128, 3136, 53, 548, 343, 4550, 707, 871, 125, 1546, 358, 764, 34, 223, 79, 580, 31, 1262, 349, 87, 56, 535, 1089, 46, 57, 30, 116, 648, 140, 114, 345, 117, 291, 46, 34, 2074, 3198, 184, 47, 631, 61, 20, 520, 893, 26, 147, 32, 26, 31, 740, 328, 76, 127, 109, 842, 175, 145, 263, 47, 92, 167, 120, 196, 177, 20, 710, 31, 335, 64, 31, 85, 39, 57, 96, 805, 35, 25, 8, 37, 1020, 109, 482, 161, 232, 237, 246, 544, 55, 128, 77, 45, 92, 79, 86, 35, 34, 47, 103, 151, 17, 147, 141, 215, 1145, 124, 210, 597, 2201, 34, 48, 4061, 207, 48, 53, 38, 1457, 1054, 143, 173, 113, 310, 44, 39, 39, 146, 72, 124, 153, 96, 36, 139, 240, 71, 41, 40, 36, 93, 25, 133, 27, 28, 38, 52, 129, 201, 279, 16, 425, 1040, 587, 112, 43, 76, 166, 39, 76, 408, 853, 100, 2379, 27, 373, 248, 83, 23, 29, 32, 69, 584, 500, 26, 238, 270, 39, 64, 26, 23, 79, 26, 99, 107, 34, 36, 31, 583, 137, 77, 270, 27, 57, 1416, 47, 502, 229, 47, 37, 424, 133, 148, 55, 29, 37, 87, 76, 32, 129, 45, 37, 21, 27, 189, 671, 40, 6, 36, 36, 45, 48, 177, 291, 331, 177, 503, 85, 147, 107, 44, 106, 158, 337, 25, 71, 274, 59, 278, 4, 78, 51, 33, 339, 164, 171, 53, 166, 20, 92, 81, 180, 77, 125, 18, 220, 29, 256, 133, 60, 46, 53, 54, 30, 26, 30, 291, 98, 480, 160, 259, 76, 28, 32, 61, 60, 33, 52, 60, 142, 32, 610, 37, 10, 97, 95, 26, 130, 58, 38, 192, 37, 49, 18, 209, 53, 3, 42, 66, 159, 47, 842, 182, 176, 53, 23, 28, 31, 6, 58, 9, 56, 45, 59, 51, 506, 247, 413, 17, 268, 1, 173, 204, 85, 26, 35, 148, 1, 68, 266, 56, 83, 36, 105, 34, 18, 37, 28, 28, 27, 142, 108, 28, 61, 30, 79, 25, 25, 77, 72, 60, 124, 169, 11, 97, 28, 26, 52, 120, 81, 40, 35, 194, 29, 32, 472, 38, 48, 106, 45, 25, 26, 28, 84, 87, 29, 57, 41, 78, 26, 94, 81, 143, 92, 5, 128, 90, 31, 17, 25, 255, 24, 106, 27, 34, 31, 27, 40, 50, 26, 50, 21, 34, 145, 75, 55, 30, 47, 25, 214, 76, 22, 26, 1, 35, 67, 8, 56, 27, 38, 29, 40, 33, 17, 50, 35, 142, 29, 43, 26, 48, 18, 101, 31, 23, 64, 149, 65, 5, 53, 23, 112, 47, 46, 41, 32, 78, 22, 28, 56, 26, 19, 97, 38, 67, 26, 99, 41, 61, 65, 115, 6, 26, 67, 5, 59, 50, 1, 58, 18, 287, 11, 32, 84, 59, 69, 55, 54, 146, 27, 107, 29, 33, 3, 27, 8, 129, 26, 40, 159, 29, 70, 36, 45, 36, 29, 35, 39, 26, 30, 66, 108, 106, 26, 64, 97, 38, 26, 50, 17, 3, 13, 24, 52, 38, 17, 67, 41, 2, 40, 48, 47, 29, 25, 1, 40, 1, 34, 64, 257, 72, 75, 5, 28, 40, 1, 90, 2, 12, 85, 41, 26, 32, 26, 31, 59, 46, 27, 33, 37, 28, 141, 24, 36, 62, 34, 41, 32, 26, 30, 28, 39, 25, 26, 51, 39, 113, 37, 27, 30, 57, 56, 25, 33, 37, 119, 40, 29, 43, 82, 25, 1, 29, 29, 71, 79, 34, 42, 29, 313, 139, 47, 44, 143, 35, 19, 31, 30, 38, 36, 35, 41, 38, 6, 135, 117, 27, 26, 27, 62, 32, 36, 26, 30, 43, 29, 31, 30, 140, 40, 70, 34, 39, 37, 24, 24, 68, 87, 1, 41, 52, 2, 26, 62, 41, 85, 36, 59, 36, 77, 33, 18, 35, 2, 63, 108, 60, 44, 36, 35, 36, 39, 25, 534, 28, 56, 36, 79, 7, 4, 35, 48, 42, 64, 42, 2, 68, 1, 42, 36, 64, 40, 3, 26, 40, 28, 41, 48, 33, 3, 75, 29, 26, 25, 50, 33, 36, 27, 43, 35, 30, 59, 32, 27, 83, 36, 68, 57, 2, 44, 48, 32, 26, 25, 40, 42, 65, 24, 190, 34, 75, 35, 30, 47, 67, 26, 31, 45, 64, 33, 31, 13, 56, 2, 62, 207, 2, 37, 1, 82, 44, 50, 33, 31, 96, 328, 47, 10, 30, 43, 1, 32, 31, 49, 30, 27, 34, 25, 57, 34, 35, 49, 45, 63, 37, 25, 32, 12, 54, 78, 68, 27], \"xaxis\": \"x\", \"yaxis\": \"y\"}],                        {\"barmode\": \"relative\", \"legend\": {\"tracegroupgap\": 0}, \"margin\": {\"t\": 60}, \"template\": {\"data\": {\"bar\": [{\"error_x\": {\"color\": \"#2a3f5f\"}, \"error_y\": {\"color\": \"#2a3f5f\"}, \"marker\": {\"line\": {\"color\": \"#E5ECF6\", \"width\": 0.5}}, \"type\": \"bar\"}], \"barpolar\": [{\"marker\": {\"line\": {\"color\": \"#E5ECF6\", \"width\": 0.5}}, \"type\": \"barpolar\"}], \"carpet\": [{\"aaxis\": {\"endlinecolor\": \"#2a3f5f\", \"gridcolor\": \"white\", \"linecolor\": \"white\", \"minorgridcolor\": \"white\", \"startlinecolor\": \"#2a3f5f\"}, \"baxis\": {\"endlinecolor\": \"#2a3f5f\", \"gridcolor\": \"white\", \"linecolor\": \"white\", \"minorgridcolor\": \"white\", \"startlinecolor\": \"#2a3f5f\"}, \"type\": \"carpet\"}], \"choropleth\": [{\"colorbar\": {\"outlinewidth\": 0, \"ticks\": \"\"}, \"type\": \"choropleth\"}], \"contour\": [{\"colorbar\": {\"outlinewidth\": 0, \"ticks\": \"\"}, \"colorscale\": [[0.0, \"#0d0887\"], [0.1111111111111111, \"#46039f\"], [0.2222222222222222, \"#7201a8\"], [0.3333333333333333, \"#9c179e\"], [0.4444444444444444, \"#bd3786\"], [0.5555555555555556, \"#d8576b\"], [0.6666666666666666, \"#ed7953\"], [0.7777777777777778, \"#fb9f3a\"], [0.8888888888888888, \"#fdca26\"], [1.0, \"#f0f921\"]], \"type\": \"contour\"}], \"contourcarpet\": [{\"colorbar\": {\"outlinewidth\": 0, \"ticks\": \"\"}, \"type\": \"contourcarpet\"}], \"heatmap\": [{\"colorbar\": {\"outlinewidth\": 0, \"ticks\": \"\"}, \"colorscale\": [[0.0, \"#0d0887\"], [0.1111111111111111, \"#46039f\"], [0.2222222222222222, \"#7201a8\"], [0.3333333333333333, \"#9c179e\"], [0.4444444444444444, \"#bd3786\"], [0.5555555555555556, \"#d8576b\"], [0.6666666666666666, \"#ed7953\"], [0.7777777777777778, \"#fb9f3a\"], [0.8888888888888888, \"#fdca26\"], [1.0, \"#f0f921\"]], \"type\": \"heatmap\"}], \"heatmapgl\": [{\"colorbar\": {\"outlinewidth\": 0, \"ticks\": \"\"}, \"colorscale\": [[0.0, \"#0d0887\"], [0.1111111111111111, \"#46039f\"], [0.2222222222222222, \"#7201a8\"], [0.3333333333333333, \"#9c179e\"], [0.4444444444444444, \"#bd3786\"], [0.5555555555555556, \"#d8576b\"], [0.6666666666666666, \"#ed7953\"], [0.7777777777777778, \"#fb9f3a\"], [0.8888888888888888, \"#fdca26\"], [1.0, \"#f0f921\"]], \"type\": \"heatmapgl\"}], \"histogram\": [{\"marker\": {\"colorbar\": {\"outlinewidth\": 0, \"ticks\": \"\"}}, \"type\": \"histogram\"}], \"histogram2d\": [{\"colorbar\": {\"outlinewidth\": 0, \"ticks\": \"\"}, \"colorscale\": [[0.0, \"#0d0887\"], [0.1111111111111111, \"#46039f\"], [0.2222222222222222, \"#7201a8\"], [0.3333333333333333, \"#9c179e\"], [0.4444444444444444, \"#bd3786\"], [0.5555555555555556, \"#d8576b\"], [0.6666666666666666, \"#ed7953\"], [0.7777777777777778, \"#fb9f3a\"], [0.8888888888888888, \"#fdca26\"], [1.0, \"#f0f921\"]], \"type\": \"histogram2d\"}], \"histogram2dcontour\": [{\"colorbar\": {\"outlinewidth\": 0, \"ticks\": \"\"}, \"colorscale\": [[0.0, \"#0d0887\"], [0.1111111111111111, \"#46039f\"], [0.2222222222222222, \"#7201a8\"], [0.3333333333333333, \"#9c179e\"], [0.4444444444444444, \"#bd3786\"], [0.5555555555555556, \"#d8576b\"], [0.6666666666666666, \"#ed7953\"], [0.7777777777777778, \"#fb9f3a\"], [0.8888888888888888, \"#fdca26\"], [1.0, \"#f0f921\"]], \"type\": \"histogram2dcontour\"}], \"mesh3d\": [{\"colorbar\": {\"outlinewidth\": 0, \"ticks\": \"\"}, \"type\": \"mesh3d\"}], \"parcoords\": [{\"line\": {\"colorbar\": {\"outlinewidth\": 0, \"ticks\": \"\"}}, \"type\": \"parcoords\"}], \"pie\": [{\"automargin\": true, \"type\": \"pie\"}], \"scatter\": [{\"marker\": {\"colorbar\": {\"outlinewidth\": 0, \"ticks\": \"\"}}, \"type\": \"scatter\"}], \"scatter3d\": [{\"line\": {\"colorbar\": {\"outlinewidth\": 0, \"ticks\": \"\"}}, \"marker\": {\"colorbar\": {\"outlinewidth\": 0, \"ticks\": \"\"}}, \"type\": \"scatter3d\"}], \"scattercarpet\": [{\"marker\": {\"colorbar\": {\"outlinewidth\": 0, \"ticks\": \"\"}}, \"type\": \"scattercarpet\"}], \"scattergeo\": [{\"marker\": {\"colorbar\": {\"outlinewidth\": 0, \"ticks\": \"\"}}, \"type\": \"scattergeo\"}], \"scattergl\": [{\"marker\": {\"colorbar\": {\"outlinewidth\": 0, \"ticks\": \"\"}}, \"type\": \"scattergl\"}], \"scattermapbox\": [{\"marker\": {\"colorbar\": {\"outlinewidth\": 0, \"ticks\": \"\"}}, \"type\": \"scattermapbox\"}], \"scatterpolar\": [{\"marker\": {\"colorbar\": {\"outlinewidth\": 0, \"ticks\": \"\"}}, \"type\": \"scatterpolar\"}], \"scatterpolargl\": [{\"marker\": {\"colorbar\": {\"outlinewidth\": 0, \"ticks\": \"\"}}, \"type\": \"scatterpolargl\"}], \"scatterternary\": [{\"marker\": {\"colorbar\": {\"outlinewidth\": 0, \"ticks\": \"\"}}, \"type\": \"scatterternary\"}], \"surface\": [{\"colorbar\": {\"outlinewidth\": 0, \"ticks\": \"\"}, \"colorscale\": [[0.0, \"#0d0887\"], [0.1111111111111111, \"#46039f\"], [0.2222222222222222, \"#7201a8\"], [0.3333333333333333, \"#9c179e\"], [0.4444444444444444, \"#bd3786\"], [0.5555555555555556, \"#d8576b\"], [0.6666666666666666, \"#ed7953\"], [0.7777777777777778, \"#fb9f3a\"], [0.8888888888888888, \"#fdca26\"], [1.0, \"#f0f921\"]], \"type\": \"surface\"}], \"table\": [{\"cells\": {\"fill\": {\"color\": \"#EBF0F8\"}, \"line\": {\"color\": \"white\"}}, \"header\": {\"fill\": {\"color\": \"#C8D4E3\"}, \"line\": {\"color\": \"white\"}}, \"type\": \"table\"}]}, \"layout\": {\"annotationdefaults\": {\"arrowcolor\": \"#2a3f5f\", \"arrowhead\": 0, \"arrowwidth\": 1}, \"autotypenumbers\": \"strict\", \"coloraxis\": {\"colorbar\": {\"outlinewidth\": 0, \"ticks\": \"\"}}, \"colorscale\": {\"diverging\": [[0, \"#8e0152\"], [0.1, \"#c51b7d\"], [0.2, \"#de77ae\"], [0.3, \"#f1b6da\"], [0.4, \"#fde0ef\"], [0.5, \"#f7f7f7\"], [0.6, \"#e6f5d0\"], [0.7, \"#b8e186\"], [0.8, \"#7fbc41\"], [0.9, \"#4d9221\"], [1, \"#276419\"]], \"sequential\": [[0.0, \"#0d0887\"], [0.1111111111111111, \"#46039f\"], [0.2222222222222222, \"#7201a8\"], [0.3333333333333333, \"#9c179e\"], [0.4444444444444444, \"#bd3786\"], [0.5555555555555556, \"#d8576b\"], [0.6666666666666666, \"#ed7953\"], [0.7777777777777778, \"#fb9f3a\"], [0.8888888888888888, \"#fdca26\"], [1.0, \"#f0f921\"]], \"sequentialminus\": [[0.0, \"#0d0887\"], [0.1111111111111111, \"#46039f\"], [0.2222222222222222, \"#7201a8\"], [0.3333333333333333, \"#9c179e\"], [0.4444444444444444, \"#bd3786\"], [0.5555555555555556, \"#d8576b\"], [0.6666666666666666, \"#ed7953\"], [0.7777777777777778, \"#fb9f3a\"], [0.8888888888888888, \"#fdca26\"], [1.0, \"#f0f921\"]]}, \"colorway\": [\"#636efa\", \"#EF553B\", \"#00cc96\", \"#ab63fa\", \"#FFA15A\", \"#19d3f3\", \"#FF6692\", \"#B6E880\", \"#FF97FF\", \"#FECB52\"], \"font\": {\"color\": \"#2a3f5f\"}, \"geo\": {\"bgcolor\": \"white\", \"lakecolor\": \"white\", \"landcolor\": \"#E5ECF6\", \"showlakes\": true, \"showland\": true, \"subunitcolor\": \"white\"}, \"hoverlabel\": {\"align\": \"left\"}, \"hovermode\": \"closest\", \"mapbox\": {\"style\": \"light\"}, \"paper_bgcolor\": \"white\", \"plot_bgcolor\": \"#E5ECF6\", \"polar\": {\"angularaxis\": {\"gridcolor\": \"white\", \"linecolor\": \"white\", \"ticks\": \"\"}, \"bgcolor\": \"#E5ECF6\", \"radialaxis\": {\"gridcolor\": \"white\", \"linecolor\": \"white\", \"ticks\": \"\"}}, \"scene\": {\"xaxis\": {\"backgroundcolor\": \"#E5ECF6\", \"gridcolor\": \"white\", \"gridwidth\": 2, \"linecolor\": \"white\", \"showbackground\": true, \"ticks\": \"\", \"zerolinecolor\": \"white\"}, \"yaxis\": {\"backgroundcolor\": \"#E5ECF6\", \"gridcolor\": \"white\", \"gridwidth\": 2, \"linecolor\": \"white\", \"showbackground\": true, \"ticks\": \"\", \"zerolinecolor\": \"white\"}, \"zaxis\": {\"backgroundcolor\": \"#E5ECF6\", \"gridcolor\": \"white\", \"gridwidth\": 2, \"linecolor\": \"white\", \"showbackground\": true, \"ticks\": \"\", \"zerolinecolor\": \"white\"}}, \"shapedefaults\": {\"line\": {\"color\": \"#2a3f5f\"}}, \"ternary\": {\"aaxis\": {\"gridcolor\": \"white\", \"linecolor\": \"white\", \"ticks\": \"\"}, \"baxis\": {\"gridcolor\": \"white\", \"linecolor\": \"white\", \"ticks\": \"\"}, \"bgcolor\": \"#E5ECF6\", \"caxis\": {\"gridcolor\": \"white\", \"linecolor\": \"white\", \"ticks\": \"\"}}, \"title\": {\"x\": 0.05}, \"xaxis\": {\"automargin\": true, \"gridcolor\": \"white\", \"linecolor\": \"white\", \"ticks\": \"\", \"title\": {\"standoff\": 15}, \"zerolinecolor\": \"white\", \"zerolinewidth\": 2}, \"yaxis\": {\"automargin\": true, \"gridcolor\": \"white\", \"linecolor\": \"white\", \"ticks\": \"\", \"title\": {\"standoff\": 15}, \"zerolinecolor\": \"white\", \"zerolinewidth\": 2}}}, \"xaxis\": {\"anchor\": \"y\", \"domain\": [0.0, 1.0], \"title\": {\"text\": \"value\"}}, \"yaxis\": {\"anchor\": \"x\", \"domain\": [0.0, 1.0], \"title\": {\"text\": \"count\"}}},                        {\"responsive\": true}                    ).then(function(){\n",
       "                            \n",
       "var gd = document.getElementById('7209794c-6f92-463c-a32d-d44f1571d666');\n",
       "var x = new MutationObserver(function (mutations, observer) {{\n",
       "        var display = window.getComputedStyle(gd).display;\n",
       "        if (!display || display === 'none') {{\n",
       "            console.log([gd, 'removed!']);\n",
       "            Plotly.purge(gd);\n",
       "            observer.disconnect();\n",
       "        }}\n",
       "}});\n",
       "\n",
       "// Listen for the removal of the full notebook cells\n",
       "var notebookContainer = gd.closest('#notebook-container');\n",
       "if (notebookContainer) {{\n",
       "    x.observe(notebookContainer, {childList: true});\n",
       "}}\n",
       "\n",
       "// Listen for the clearing of the current output cell\n",
       "var outputEl = gd.closest('.output');\n",
       "if (outputEl) {{\n",
       "    x.observe(outputEl, {childList: true});\n",
       "}}\n",
       "\n",
       "                        })                };                });            </script>        </div>"
      ]
     },
     "metadata": {},
     "output_type": "display_data"
    }
   ],
   "source": [
    "counts = dict(c)\n",
    "\n",
    "# lets see what the distribution of counts looks like.\n",
    "fig = px.histogram(pd.DataFrame({'value':counts.values()}), x=\"value\", nbins=20)\n",
    "fig.show()\n",
    "# yea so most of them are mentioned less than 1k times"
   ]
  },
  {
   "cell_type": "code",
   "execution_count": 22,
   "id": "flexible-favor",
   "metadata": {},
   "outputs": [
    {
     "data": {
      "text/plain": [
       "{'gme': 98908,\n",
       " 'uber': 1091,\n",
       " 'bb': 15287,\n",
       " 'amc': 43504,\n",
       " 'fb': 2175,\n",
       " 'nok': 12998,\n",
       " 'blackberry': 1312,\n",
       " 'gamestop': 10585,\n",
       " 'tsla': 11462,\n",
       " 'tesla': 9004,\n",
       " 'facebook': 1421,\n",
       " 'tencent': 181,\n",
       " 'chewy': 196,\n",
       " 'game_stop': 644,\n",
       " 'netflix': 1161,\n",
       " 'spy': 6596,\n",
       " 'microsoft': 905,\n",
       " 'apple': 3227,\n",
       " 'nokia': 3076,\n",
       " 'baidu': 109,\n",
       " 'palantir': 922,\n",
       " 'pltr': 6203,\n",
       " 'bbby': 877,\n",
       " 'axdx': 43,\n",
       " 'amazon': 2580,\n",
       " 'jd': 708,\n",
       " 'nflx': 1121,\n",
       " 'pins': 170,\n",
       " 'pypl': 270,\n",
       " 'ibm': 212,\n",
       " 'ge': 1217,\n",
       " 'cisco': 91,\n",
       " 'comcast': 99,\n",
       " 'tiktok': 577,\n",
       " 'irbt': 112,\n",
       " 'prpl': 532,\n",
       " 'amd': 7321,\n",
       " 'nio': 3119,\n",
       " 'snap': 2488,\n",
       " 'bed_bath_beyond': 26,\n",
       " 'spotify': 261,\n",
       " 'spce': 2850,\n",
       " 'tdoc': 71,\n",
       " 'aal': 1128,\n",
       " 'nakd': 3136,\n",
       " 'ame': 53,\n",
       " 'gnus': 548,\n",
       " 'appl': 343,\n",
       " 'sndl': 4550,\n",
       " 'expr': 707,\n",
       " 'plug': 871,\n",
       " 'uavs': 125,\n",
       " 'baba': 1546,\n",
       " 'alibaba': 358,\n",
       " 'intel': 764,\n",
       " 'nspr': 34,\n",
       " 'jagx': 223,\n",
       " 'wtrh': 79,\n",
       " 'koss': 580,\n",
       " 'dpls': 31,\n",
       " 'nkla': 1262,\n",
       " 'idex': 349,\n",
       " 'naked_brand': 87,\n",
       " 'sundial_growers_sndl': 56,\n",
       " 'fubo': 535,\n",
       " 'sq': 1089,\n",
       " 'fosl': 46,\n",
       " 'telsa': 57,\n",
       " 'aht': 30,\n",
       " 'lmnd': 116,\n",
       " 'twtr': 648,\n",
       " 'amcx': 140,\n",
       " 'gern': 114,\n",
       " 'paypal': 345,\n",
       " 'aprn': 117,\n",
       " 'mnkd': 291,\n",
       " 'mannkind': 46,\n",
       " 'adt': 34,\n",
       " 'msft': 2074,\n",
       " 'aapl': 3198,\n",
       " 'sony': 184,\n",
       " 'macys': 47,\n",
       " 'ea': 631,\n",
       " 'jd_com': 61,\n",
       " 'pinduoduo': 20,\n",
       " 'cciv': 520,\n",
       " 'ford': 893,\n",
       " 'tril': 26,\n",
       " 'skt': 147,\n",
       " 'anf': 32,\n",
       " 'quantumscape_qs': 26,\n",
       " 'gogogo': 31,\n",
       " 'apha': 740,\n",
       " 'kodk': 328,\n",
       " 'wba': 76,\n",
       " 'tmr': 127,\n",
       " 'macy’s': 109,\n",
       " 'acb': 842,\n",
       " 'admp': 175,\n",
       " 'qualcomm': 145,\n",
       " 'bby': 263,\n",
       " 'sdnl': 47,\n",
       " 'black_berry': 92,\n",
       " 'dash': 167,\n",
       " 'this_bad_boy': 120,\n",
       " 'draftkings': 196,\n",
       " 'sundial_growers': 177,\n",
       " 'kern': 20,\n",
       " 'zoom': 710,\n",
       " 'buyy': 31,\n",
       " 'tqqq': 335,\n",
       " 'nkd': 64,\n",
       " 'let’s_goo': 31,\n",
       " 'inpx': 85,\n",
       " 'sndl_sundial_growers': 39,\n",
       " 'saveamc': 57,\n",
       " \"macy's\": 96,\n",
       " 'hmny': 805,\n",
       " 'niu': 35,\n",
       " 'reeeee': 25,\n",
       " 'stunts': 8,\n",
       " 'nokia_nokia': 37,\n",
       " 'shop': 1020,\n",
       " 'yelp': 109,\n",
       " 'walmart': 482,\n",
       " 'cara': 161,\n",
       " 'trxc': 232,\n",
       " 'nike': 237,\n",
       " 'starbucks': 246,\n",
       " 'crsr': 544,\n",
       " 'mik': 55,\n",
       " 'kroger': 128,\n",
       " 'grubhub': 77,\n",
       " 'party_city': 45,\n",
       " 'sfix': 92,\n",
       " 'bliaq': 79,\n",
       " 'bed_bath': 86,\n",
       " 'stic': 35,\n",
       " 'koss_nakd': 34,\n",
       " 'webull_suspended': 47,\n",
       " 'mgni': 103,\n",
       " 'blnk': 151,\n",
       " 'magnite': 17,\n",
       " 'chwy': 147,\n",
       " 'kr': 141,\n",
       " 'gmc': 215,\n",
       " 'disney': 1145,\n",
       " 'ua': 124,\n",
       " 'peloton': 210,\n",
       " 'pton': 597,\n",
       " 'nvda': 2201,\n",
       " 'mdt': 34,\n",
       " 'revolut_no_longer': 48,\n",
       " 'mu': 4061,\n",
       " 'qcom': 207,\n",
       " 'pleas_fly_again': 48,\n",
       " 'fuv': 53,\n",
       " \"let's_gooooo\": 38,\n",
       " 'tlry': 1457,\n",
       " 'bynd': 1054,\n",
       " 'coty': 143,\n",
       " 'beyond_meat': 173,\n",
       " 'arkk': 113,\n",
       " 'ebay': 310,\n",
       " 'toys_r_us': 44,\n",
       " 'ipof': 39,\n",
       " 'ipod': 39,\n",
       " 'salesforce': 146,\n",
       " 'earning_report': 72,\n",
       " 'verizon': 124,\n",
       " 'alphabet': 153,\n",
       " 'kndi': 96,\n",
       " 'delta_airlines': 36,\n",
       " 'workhorse': 139,\n",
       " 'shopify': 240,\n",
       " 'wm': 71,\n",
       " 'irobot': 41,\n",
       " 'fubo_tv': 40,\n",
       " 'lowes': 36,\n",
       " 'zillow': 93,\n",
       " 'lowe’s': 25,\n",
       " 'home_depot': 133,\n",
       " 'swch': 27,\n",
       " 'babyyyyy': 28,\n",
       " 'square_sq': 38,\n",
       " 'cnet': 52,\n",
       " 'gsx': 129,\n",
       " 'nintendo': 201,\n",
       " 'qs': 279,\n",
       " 'eq': 16,\n",
       " 'snapchat': 425,\n",
       " 'rkt': 1040,\n",
       " 'gm': 587,\n",
       " 'ely': 112,\n",
       " 'call_holder': 43,\n",
       " 'fortnite': 76,\n",
       " 'goev': 166,\n",
       " 'utz': 39,\n",
       " 'ayro': 76,\n",
       " 'wkhs': 408,\n",
       " 'rad': 853,\n",
       " 'pre_earnings': 100,\n",
       " 'amzn': 2379,\n",
       " 'hol': 27,\n",
       " 'gpro': 373,\n",
       " 'visa': 248,\n",
       " 'bigc': 83,\n",
       " 'uber_eats': 23,\n",
       " 'ctl': 29,\n",
       " 'mdb': 32,\n",
       " 'overstock': 69,\n",
       " 'tilray': 584,\n",
       " 'cgc': 500,\n",
       " 'donkey_kong': 26,\n",
       " 'gopro': 238,\n",
       " 'cmg': 270,\n",
       " 'advanced_micro_devices': 39,\n",
       " 'biib': 64,\n",
       " 'chevron': 26,\n",
       " 'honeywell': 23,\n",
       " 'wdc': 79,\n",
       " 'swks': 26,\n",
       " 'momo': 99,\n",
       " 'yy': 107,\n",
       " 'cheap_af': 34,\n",
       " 'azure': 36,\n",
       " 'xilinx': 31,\n",
       " 'nvidia': 583,\n",
       " 'tik_tok': 137,\n",
       " 'hpq': 77,\n",
       " 'googl': 270,\n",
       " 'rut': 27,\n",
       " 'jblu': 57,\n",
       " 'dis': 1416,\n",
       " 'cinemark': 47,\n",
       " 'dkng': 502,\n",
       " 'mtch': 229,\n",
       " 'gma': 47,\n",
       " 'jks': 37,\n",
       " 'sbux': 424,\n",
       " 'activision': 133,\n",
       " 'doordash': 148,\n",
       " 'yhoo': 55,\n",
       " 'htc': 29,\n",
       " 'myl': 37,\n",
       " 'blue_apron': 87,\n",
       " 'pinterest': 76,\n",
       " 'nintendo_switch': 32,\n",
       " 'valeant': 129,\n",
       " 'crowdstrike': 45,\n",
       " 'lululemon': 37,\n",
       " 'topgolf': 21,\n",
       " 'craigslist': 27,\n",
       " 'slack': 189,\n",
       " 'roku': 671,\n",
       " 'bang_gang': 40,\n",
       " 'maniac': 6,\n",
       " 'dominos': 36,\n",
       " 'satya': 36,\n",
       " 'wal_mart': 45,\n",
       " 'qd': 48,\n",
       " 'fdx': 177,\n",
       " 'fsly': 291,\n",
       " 'crm': 331,\n",
       " 'znga': 177,\n",
       " 'intc': 503,\n",
       " 'feye': 85,\n",
       " 'wwe': 147,\n",
       " 'grub': 107,\n",
       " 'logitech': 44,\n",
       " 'zynga': 106,\n",
       " 'corsair': 158,\n",
       " 'mgm': 337,\n",
       " 'call_debit': 25,\n",
       " 'tlsa': 71,\n",
       " 'mcd': 274,\n",
       " 'mastercard': 59,\n",
       " 'cron': 278,\n",
       " 'wakefield': 4,\n",
       " 'sbe': 78,\n",
       " 'john_chen': 51,\n",
       " 'bjs': 33,\n",
       " 'goog': 339,\n",
       " 'docu': 164,\n",
       " 'bidu': 171,\n",
       " 'ktos': 53,\n",
       " 'jcp': 166,\n",
       " 'thestreet': 20,\n",
       " 'pornhub': 92,\n",
       " 'adobe': 81,\n",
       " 'xpev': 180,\n",
       " 'xpeng': 77,\n",
       " 'plug_power': 125,\n",
       " 'twinkies': 18,\n",
       " 'lk': 220,\n",
       " 'tls': 29,\n",
       " 'cvs': 256,\n",
       " 'crwd': 133,\n",
       " 'panw': 60,\n",
       " 'hulu': 46,\n",
       " 'cmcsa': 53,\n",
       " 'nov_th': 54,\n",
       " 'viacomcbs': 30,\n",
       " 'weedmaps': 26,\n",
       " 'bgs': 30,\n",
       " 'tgt': 291,\n",
       " 'coca_cola': 98,\n",
       " 'zm': 480,\n",
       " 'fitbit': 160,\n",
       " 'costco': 259,\n",
       " 'cnk': 76,\n",
       " 'dollar_tree': 28,\n",
       " 'redfin': 32,\n",
       " 'rdfn': 61,\n",
       " 'sedg': 60,\n",
       " 'sunrun': 33,\n",
       " 'uaa': 52,\n",
       " 'imax': 60,\n",
       " 'orcl': 142,\n",
       " 'tilray_tlry': 32,\n",
       " 'micron': 610,\n",
       " 'trade_desk': 37,\n",
       " 'indy': 10,\n",
       " 'logi': 97,\n",
       " 'dell': 95,\n",
       " 'nio_xpeng': 26,\n",
       " 'ttd': 130,\n",
       " 'xiaomi': 58,\n",
       " 'canoo_goev': 38,\n",
       " 'canoo': 192,\n",
       " 'pstg': 37,\n",
       " 'pepsi': 49,\n",
       " 'ssys': 18,\n",
       " 'ulta': 209,\n",
       " 'li_auto': 53,\n",
       " 'extras': 3,\n",
       " 'cyber_monday': 42,\n",
       " 'apha_tlry': 66,\n",
       " 'fedex': 159,\n",
       " 'call_exp': 47,\n",
       " 'atvi': 842,\n",
       " 'ttwo': 182,\n",
       " 'huya': 176,\n",
       " 'tcehy': 53,\n",
       " 'aaww': 23,\n",
       " \"let's_goooooo\": 28,\n",
       " 'ftr': 31,\n",
       " 'audition': 6,\n",
       " 'stz': 58,\n",
       " 'trailers': 9,\n",
       " 'dltr': 56,\n",
       " 'gaymf': 45,\n",
       " 'grwg': 59,\n",
       " 'oct_th': 51,\n",
       " 'wmt': 506,\n",
       " 'auph': 247,\n",
       " 'lulu': 413,\n",
       " 'waymo': 17,\n",
       " 'etsy': 268,\n",
       " 'rtl': 1,\n",
       " 'shll': 173,\n",
       " 'sears': 204,\n",
       " 'xlf': 85,\n",
       " '¿': 26,\n",
       " 'chuck_e_cheese': 35,\n",
       " 'fsr': 148,\n",
       " 'glamour': 1,\n",
       " 'gluu': 68,\n",
       " 'mvis': 266,\n",
       " 'funko': 56,\n",
       " 'walgreens': 83,\n",
       " 'lets_gooooooo': 36,\n",
       " 'veri': 105,\n",
       " 'docusign': 34,\n",
       " 'oyj': 18,\n",
       " 'hrb': 37,\n",
       " 'sfor': 28,\n",
       " 'zoom_zm': 28,\n",
       " 'vg': 27,\n",
       " 'dbx': 142,\n",
       " 'dropbox': 108,\n",
       " 'nrz': 28,\n",
       " 'crox': 61,\n",
       " 'splunk': 30,\n",
       " 'castor_maritime': 79,\n",
       " \"nvidia's\": 25,\n",
       " 'ldi': 25,\n",
       " 'khc': 77,\n",
       " 'himx': 72,\n",
       " 'clorox': 60,\n",
       " 'chegg': 124,\n",
       " 'chgg': 169,\n",
       " 'bbs': 11,\n",
       " 'vz': 97,\n",
       " 'atari': 28,\n",
       " \"snap's\": 26,\n",
       " 'spce_virgin_galactic': 52,\n",
       " 'soxl': 120,\n",
       " 'mstr': 81,\n",
       " 'gms': 40,\n",
       " 'hasbro': 35,\n",
       " 'csco': 194,\n",
       " 'pepsico': 29,\n",
       " 'naw': 32,\n",
       " 'lyft': 472,\n",
       " 'gwph': 38,\n",
       " 'pdd': 48,\n",
       " 'weed_stonks': 106,\n",
       " 'sono': 45,\n",
       " 'hbo_max': 25,\n",
       " 'oculus': 26,\n",
       " 'ilmn': 28,\n",
       " 'pep': 84,\n",
       " 'efx': 87,\n",
       " 'dxcm': 29,\n",
       " 'yeti': 57,\n",
       " 'ddog': 41,\n",
       " 'virgin_galactic_spce': 78,\n",
       " 'len': 26,\n",
       " 'bmbl': 94,\n",
       " 'nbg': 81,\n",
       " 'amda': 143,\n",
       " 'bft': 92,\n",
       " 'showcased': 5,\n",
       " 'sne': 128,\n",
       " 'dpz': 90,\n",
       " 'lci': 31,\n",
       " 'cmi': 17,\n",
       " 'hsy': 25,\n",
       " 'nke': 255,\n",
       " 'nvta': 24,\n",
       " 'regn': 106,\n",
       " 'cspr': 27,\n",
       " 'afrm': 34,\n",
       " \"domino's\": 31,\n",
       " 'papa_johns': 27,\n",
       " 'broadcom': 40,\n",
       " 'planet_fitness': 50,\n",
       " 'postmates': 26,\n",
       " 'dog_coin': 50,\n",
       " 'papa_karp': 21,\n",
       " 'cbat': 34,\n",
       " 'hexo': 145,\n",
       " 'fnko': 75,\n",
       " 'twilio': 55,\n",
       " 'mattel': 30,\n",
       " 'under_armour': 47,\n",
       " 'cresco_labs': 25,\n",
       " 'ostk': 214,\n",
       " 'lrcx': 76,\n",
       " 'datadog': 22,\n",
       " 'nwl': 26,\n",
       " 'xanadu': 1,\n",
       " 'sk_hynix': 35,\n",
       " 'cldr': 67,\n",
       " 'yandex': 8,\n",
       " 'ghiv': 56,\n",
       " 'amd’s': 27,\n",
       " 'lumber_liquidators': 38,\n",
       " 'nxpi': 29,\n",
       " 'txn': 40,\n",
       " 'adsk': 33,\n",
       " 'autodesk': 17,\n",
       " 'adidas': 50,\n",
       " 'wday': 35,\n",
       " 'twlo': 142,\n",
       " 'cloudflare_net': 29,\n",
       " 'iipr': 43,\n",
       " 'kraft_heinz': 26,\n",
       " 'qsr': 48,\n",
       " 'generac': 18,\n",
       " 'lazr': 101,\n",
       " 'ndx': 31,\n",
       " 'xlnx': 23,\n",
       " 'vldr': 64,\n",
       " 'adbe': 149,\n",
       " 'ces': 65,\n",
       " 'chipset': 5,\n",
       " 'ayx': 53,\n",
       " 'cleanspark': 23,\n",
       " 'fastly': 112,\n",
       " 'vmware': 47,\n",
       " 'ehth': 46,\n",
       " 'fvrr': 41,\n",
       " 'wix': 32,\n",
       " 'stmp': 78,\n",
       " 'nly': 22,\n",
       " 'fiverr': 28,\n",
       " 'activision_blizzard': 56,\n",
       " 'lmaooo': 26,\n",
       " 'suncor': 19,\n",
       " 'cvna': 97,\n",
       " 'kmx': 38,\n",
       " 'fxi': 67,\n",
       " 'plt': 26,\n",
       " 'dks': 99,\n",
       " 'csx': 41,\n",
       " 'tndm': 61,\n",
       " 'lgvw': 65,\n",
       " 'abnb': 115,\n",
       " 'bangs': 6,\n",
       " 'zscaler': 26,\n",
       " 'nordstrom': 67,\n",
       " 'cbm': 5,\n",
       " 'kss': 59,\n",
       " 'gis': 50,\n",
       " 'workstations': 1,\n",
       " 'c_ai': 58,\n",
       " 'camping_world': 18,\n",
       " 'chk': 287,\n",
       " 'unsupported': 11,\n",
       " 'slack_work': 32,\n",
       " 'wen': 84,\n",
       " 'hpe': 59,\n",
       " 'lca': 69,\n",
       " 'mcafee': 55,\n",
       " 'six_flags': 54,\n",
       " 'jmia': 146,\n",
       " 'glu': 27,\n",
       " 'ntdoy': 107,\n",
       " 'flws': 29,\n",
       " 'spr': 33,\n",
       " 'emi': 3,\n",
       " 'mcrb': 27,\n",
       " 'capcom': 8,\n",
       " 'brk_b': 129,\n",
       " 'navi': 26,\n",
       " 'vuzi': 40,\n",
       " 'thcb': 159,\n",
       " 'fcau': 29,\n",
       " 'ciic': 70,\n",
       " 'gik': 36,\n",
       " 'cxw': 45,\n",
       " 'anet': 36,\n",
       " 'foot_locker': 29,\n",
       " 'xlk': 35,\n",
       " 'zuo': 39,\n",
       " 'otrk': 26,\n",
       " 'first_majestic': 30,\n",
       " 'busters': 66,\n",
       " 'sdc': 108,\n",
       " 'trit': 106,\n",
       " 'weight_watchers': 26,\n",
       " 'groupon': 64,\n",
       " 'grpn': 97,\n",
       " 'algn': 38,\n",
       " 'smile_direct_club': 26,\n",
       " 'mrvl': 50,\n",
       " 'callers': 17,\n",
       " 'yamaha': 3,\n",
       " 'michaels': 13,\n",
       " 'mitt': 24,\n",
       " 'ipob': 52,\n",
       " 'pbi': 38,\n",
       " 'wgo': 17,\n",
       " 'lyv': 67,\n",
       " 'cd_projekt': 41,\n",
       " 'iis': 2,\n",
       " 'call_debit_spread': 40,\n",
       " 'let’s_goooooo': 48,\n",
       " 'axp': 47,\n",
       " 'skx': 29,\n",
       " 'sfm': 25,\n",
       " 'gba': 1,\n",
       " 'mgi': 40,\n",
       " 'frisbee': 1,\n",
       " 'nio_xpev': 34,\n",
       " 'pandora': 64,\n",
       " 'drys': 257,\n",
       " 'zuckerberg': 72,\n",
       " 'plnt': 75,\n",
       " 'bundy': 5,\n",
       " 'bdrbf': 28,\n",
       " 'iqiyi': 40,\n",
       " 'headroom': 1,\n",
       " 'abbv': 90,\n",
       " 'lucent': 2,\n",
       " 'qfin': 12,\n",
       " 'czr': 85,\n",
       " 'tbev': 41,\n",
       " 'canntrust': 26,\n",
       " 'cloudera': 32,\n",
       " 'kors': 26,\n",
       " 'sirius_xm': 31,\n",
       " 'amrs': 59,\n",
       " 'rolls_royce_rycey': 46,\n",
       " 'biol': 27,\n",
       " 'riot_blockchain': 33,\n",
       " 'cciv_lucid': 37,\n",
       " 'ptlr': 28,\n",
       " 'txmd': 141,\n",
       " 'itrm': 24,\n",
       " 'espr': 36,\n",
       " 'ampe': 62,\n",
       " 'kmph': 34,\n",
       " 'pte': 41,\n",
       " 'mbrx': 32,\n",
       " 'gsm': 26,\n",
       " 'agen': 30,\n",
       " 'clean_power_capital': 28,\n",
       " 'avgr': 39,\n",
       " 'htgm': 25,\n",
       " 'boiis': 26,\n",
       " 'llnw': 51,\n",
       " 'veru': 39,\n",
       " 'avgo': 113,\n",
       " 'sgmd': 37,\n",
       " 'gnw': 27,\n",
       " 'dunkin': 30,\n",
       " 'luckin': 57,\n",
       " 'srac': 56,\n",
       " 'tenx': 25,\n",
       " 'etherium': 33,\n",
       " 'lxrx': 37,\n",
       " 'prty': 119,\n",
       " 'innd': 40,\n",
       " 'barrick_gold': 29,\n",
       " 'mfa': 43,\n",
       " 'cidm': 82,\n",
       " 'nlok': 25,\n",
       " 'homers': 1,\n",
       " 'auxly': 29,\n",
       " 'hmny_moviepass': 29,\n",
       " 'trtc': 71,\n",
       " 'phun': 79,\n",
       " 'black_friday_sale': 34,\n",
       " 'clsn': 42,\n",
       " 'bioc': 29,\n",
       " 'htz': 313,\n",
       " 'apxt': 139,\n",
       " 'nxtd': 47,\n",
       " 'nvcn': 44,\n",
       " 'gnc': 143,\n",
       " 'aqms': 35,\n",
       " 'isr': 19,\n",
       " '🤑🤑🤑🤑': 31,\n",
       " 'yinn': 30,\n",
       " 'reddcoin': 38,\n",
       " 'zsan': 36,\n",
       " 'nvdia': 35,\n",
       " 'agrx': 41,\n",
       " 'sundial_sndl': 38,\n",
       " 'arcturus': 6,\n",
       " 'vtiq': 135,\n",
       " 'uxin': 117,\n",
       " 'bilibili': 27,\n",
       " 'albertsons': 26,\n",
       " 'tblt': 27,\n",
       " 'nete': 62,\n",
       " 'nls': 32,\n",
       " 'canadian_weed_stocks': 36,\n",
       " 'vstm': 26,\n",
       " 'naked_brand_group': 30,\n",
       " 'aph': 43,\n",
       " 'scyx': 29,\n",
       " 'gnca': 31,\n",
       " 'sunw': 30,\n",
       " 'aaoi': 140,\n",
       " 'izea': 40,\n",
       " 'ekso': 70,\n",
       " 'shldq': 34,\n",
       " 'teum': 39,\n",
       " 'jaguar_health': 37,\n",
       " 'prtk': 24,\n",
       " 'prpo': 24,\n",
       " 'goos': 68,\n",
       " 'bzun': 87,\n",
       " 'miata': 1,\n",
       " 'doge_coins': 41,\n",
       " 'mack': 52,\n",
       " 'apogee': 2,\n",
       " 'drrx': 26,\n",
       " 'rht': 62,\n",
       " 'cpxx': 41,\n",
       " 'dvax': 85,\n",
       " 'jc_penny': 36,\n",
       " 'wtw': 59,\n",
       " 'cprx': 36,\n",
       " 'rtn': 77,\n",
       " 'goooooooooo': 33,\n",
       " 'sco': 18,\n",
       " 'live_nation': 35,\n",
       " 'mca': 2,\n",
       " 'papa_bezos': 63,\n",
       " 'hrtx': 108,\n",
       " 'mtn': 60,\n",
       " 'skln': 44,\n",
       " 'ripple_xrp': 36,\n",
       " 'turtle_beach': 35,\n",
       " 'tjx': 36,\n",
       " 'arwr': 39,\n",
       " 'botz': 25,\n",
       " 'mstx': 534,\n",
       " 'sdow': 28,\n",
       " 'tif': 56,\n",
       " 'lmfa': 36,\n",
       " 'shld': 79,\n",
       " 'snes': 7,\n",
       " 'bobble': 4,\n",
       " 'cwh': 35,\n",
       " 'vmw': 48,\n",
       " 'kem': 42,\n",
       " 'spaq': 64,\n",
       " 'stx': 42,\n",
       " 'cerberus': 2,\n",
       " 'bbry': 68,\n",
       " 'maestro': 1,\n",
       " 'ptx': 42,\n",
       " 'amtd': 36,\n",
       " 'splk': 64,\n",
       " 'urbn': 40,\n",
       " 'susie': 3,\n",
       " 'yext': 26,\n",
       " 'zgnx': 40,\n",
       " 'aks': 28,\n",
       " 'exel': 41,\n",
       " 'rvlv': 48,\n",
       " 'cycc': 33,\n",
       " 'tsr': 3,\n",
       " 'sogo': 75,\n",
       " 'mnst': 29,\n",
       " 'beats_estimates': 26,\n",
       " 'estc': 25,\n",
       " 'amba': 50,\n",
       " \"today's_pre_market_movers\": 33,\n",
       " 'ssti': 36,\n",
       " 'meli': 27,\n",
       " 's_amp_p_inclusion': 43,\n",
       " 'airbnb_ipo': 35,\n",
       " 'ftch': 30,\n",
       " 'vslr': 59,\n",
       " 'kcac': 32,\n",
       " 'dnkn': 27,\n",
       " 'pzza': 83,\n",
       " 'gmhi': 36,\n",
       " 'okta': 68,\n",
       " 'daily_discussion_thread_december': 57,\n",
       " 'irix': 2,\n",
       " 't_la': 44,\n",
       " 'dphc': 48,\n",
       " 'ntes': 32,\n",
       " 'absolute_confidence': 26,\n",
       " 'rost': 25,\n",
       " 'brzu': 40,\n",
       " 'immu': 42,\n",
       " 'aimt': 65,\n",
       " 'sina': 24,\n",
       " 'lfin': 190,\n",
       " 'upl': 34,\n",
       " 'ntnx': 75,\n",
       " 'veev': 35,\n",
       " 'aramco': 30,\n",
       " 'daily_discussion_thread_august': 47,\n",
       " 'dcth': 67,\n",
       " 'ltrpb': 26,\n",
       " 'raises_guidance': 31,\n",
       " \"next_week's_earnings\": 45,\n",
       " 'tlrd': 64,\n",
       " 'tasr': 33,\n",
       " 'jedi_contract': 31,\n",
       " 'uri': 13,\n",
       " 'daily_discussion_thread_april': 56,\n",
       " 'enzo': 2,\n",
       " 'daily_discussion_thread_february': 62,\n",
       " 'swhc': 207,\n",
       " 'yap': 2,\n",
       " 'gaymd': 37,\n",
       " 'sprites': 1,\n",
       " 'ayymd': 82,\n",
       " 'ayyymd': 44,\n",
       " 'ptla': 50,\n",
       " 'bpmx': 33,\n",
       " 'celg': 31,\n",
       " 'scty': 96,\n",
       " 'sune': 328,\n",
       " 'daily_discussion_thread_september': 47,\n",
       " 'spectacles': 10,\n",
       " 'ayyyymd': 30,\n",
       " 'chinese_meme_stocks': 43,\n",
       " 'hurd': 1,\n",
       " 'eps_vs_est': 32,\n",
       " 'rgse': 31,\n",
       " 'dcix': 49,\n",
       " 'bsti': 30,\n",
       " 'atrs': 27,\n",
       " 'pbyi': 34,\n",
       " 'musq': 25,\n",
       " 'sdrl': 57,\n",
       " 'apri': 34,\n",
       " 'twmjf': 35,\n",
       " 'mjx': 49,\n",
       " 'etrm': 45,\n",
       " 'wfm': 63,\n",
       " 'ceru': 37,\n",
       " 'ebio': 25,\n",
       " 'xgti': 32,\n",
       " 'aria': 12,\n",
       " 'lnkd': 54,\n",
       " 'gbsn': 78,\n",
       " 'rlyp': 68,\n",
       " 'aro': 27}"
      ]
     },
     "execution_count": 22,
     "metadata": {},
     "output_type": "execute_result"
    }
   ],
   "source": [
    "counts"
   ]
  },
  {
   "cell_type": "markdown",
   "id": "civic-cyprus",
   "metadata": {},
   "source": [
    "# Sentiment Analysis"
   ]
  },
  {
   "cell_type": "code",
   "execution_count": null,
   "id": "residential-seattle",
   "metadata": {},
   "outputs": [],
   "source": []
  },
  {
   "cell_type": "code",
   "execution_count": null,
   "id": "basic-ceiling",
   "metadata": {},
   "outputs": [],
   "source": []
  }
 ],
 "metadata": {
  "kernelspec": {
   "display_name": "Python 3",
   "language": "python",
   "name": "python3"
  },
  "language_info": {
   "codemirror_mode": {
    "name": "ipython",
    "version": 3
   },
   "file_extension": ".py",
   "mimetype": "text/x-python",
   "name": "python",
   "nbconvert_exporter": "python",
   "pygments_lexer": "ipython3",
   "version": "3.9.1"
  }
 },
 "nbformat": 4,
 "nbformat_minor": 5
}
